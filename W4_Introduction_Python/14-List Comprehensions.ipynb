{
 "cells": [
  {
   "cell_type": "markdown",
   "metadata": {},
   "source": [
    "___\n",
    "<a href='https://www.pau.edu.tr/endustri'><img src= 'data:image/jpeg;base64,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 '/></a>\n",
    "___\n",
    "# <center><em>IENG435 Problem Çözmede Sezgisel Yöntemler</em></center>"
   ]
  },
  {
   "cell_type": "markdown",
   "metadata": {},
   "source": [
    "## <font color='darkred'> List Comprehensions </font>"
   ]
  },
  {
   "cell_type": "markdown",
   "metadata": {},
   "source": [
    "Python'da comprehension yöntemi ile satırlar boyu olan döngüleri tek bir kod satırı ile ifade edebiliriz. "
   ]
  },
  {
   "cell_type": "code",
   "execution_count": null,
   "metadata": {},
   "outputs": [],
   "source": [
    "ornek = [x.upper() for x in 'word']\n",
    "ornek"
   ]
  },
  {
   "cell_type": "markdown",
   "metadata": {},
   "source": [
    "#### 0-11 arasında ki sayıların karesini alıp bir listeye yazdıran döngüyü kuralım."
   ]
  },
  {
   "cell_type": "code",
   "execution_count": 4,
   "metadata": {},
   "outputs": [
    {
     "name": "stdout",
     "output_type": "stream",
     "text": [
      "0\n",
      "1\n",
      "5\n",
      "14\n",
      "30\n",
      "55\n",
      "91\n",
      "140\n",
      "204\n",
      "285\n",
      "385\n"
     ]
    }
   ],
   "source": [
    "kare=0\n",
    "for say in range(11):\n",
    "    kare = kare + say**2\n",
    "    print(kare)"
   ]
  },
  {
   "cell_type": "code",
   "execution_count": 1,
   "metadata": {},
   "outputs": [
    {
     "name": "stdout",
     "output_type": "stream",
     "text": [
      "[0, 1, 4, 9, 16, 25, 36, 49, 64, 81, 100]\n"
     ]
    }
   ],
   "source": [
    "# 1. yol\n",
    "\n",
    "kare = []\n",
    "\n",
    "for i in range(0,11):\n",
    "    kare = kare + [i**2]\n",
    "print(kare)"
   ]
  },
  {
   "cell_type": "code",
   "execution_count": 5,
   "metadata": {},
   "outputs": [
    {
     "data": {
      "text/plain": [
       "[0, 1, 4, 9, 16, 25, 36, 49, 64, 81, 100]"
      ]
     },
     "execution_count": 5,
     "metadata": {},
     "output_type": "execute_result"
    }
   ],
   "source": [
    "# 2. yol \n",
    "kare = [x**2 for x in range(0,11)]\n",
    "kare"
   ]
  },
  {
   "cell_type": "markdown",
   "metadata": {},
   "source": [
    "#### 0-11 aralığında çift sayıları listeye alan döngüyü yazalım. "
   ]
  },
  {
   "cell_type": "code",
   "execution_count": null,
   "metadata": {},
   "outputs": [],
   "source": [
    "# 1. yol \n",
    "\n",
    "cift = []\n",
    "\n",
    "for i in range(0,11):\n",
    "    if i %2 == 0:\n",
    "        cift += [i]\n",
    "print(cift)"
   ]
  },
  {
   "cell_type": "code",
   "execution_count": 6,
   "metadata": {},
   "outputs": [
    {
     "name": "stdout",
     "output_type": "stream",
     "text": [
      "[0, 2, 4, 6, 8, 10]\n"
     ]
    }
   ],
   "source": [
    "kare = []\n",
    "\n",
    "for i in range(0,11):\n",
    "    if i %2 ==0:\n",
    "        kare += [i]\n",
    "print(kare)"
   ]
  },
  {
   "cell_type": "code",
   "execution_count": null,
   "metadata": {},
   "outputs": [],
   "source": [
    "# 2. yol\n",
    "\n",
    "cift = [i for i in range (0,11) if i %2 == 0]\n",
    "cift"
   ]
  },
  {
   "cell_type": "code",
   "execution_count": 13,
   "metadata": {},
   "outputs": [
    {
     "data": {
      "text/plain": [
       "[0, 2, 4, 6, 8, 10]"
      ]
     },
     "execution_count": 13,
     "metadata": {},
     "output_type": "execute_result"
    }
   ],
   "source": [
    "say = [ali for ali in range(11)if ali %2==0]\n",
    "say"
   ]
  },
  {
   "cell_type": "markdown",
   "metadata": {},
   "source": [
    "#### Celciusu Fahrenheita çeviren döngüyü yazalım. "
   ]
  },
  {
   "cell_type": "code",
   "execution_count": 14,
   "metadata": {},
   "outputs": [
    {
     "data": {
      "text/plain": [
       "[32.0, 50.0, 68.18, 94.1]"
      ]
     },
     "execution_count": 14,
     "metadata": {},
     "output_type": "execute_result"
    }
   ],
   "source": [
    "celsius = [0,10,20.1,34.5]\n",
    "\n",
    "fahrenheit = [((9/5)*temp + 32) for temp in celsius ]\n",
    "\n",
    "fahrenheit"
   ]
  },
  {
   "cell_type": "markdown",
   "metadata": {},
   "source": [
    "#### Comprehension yapısını iç içe de kullanabiliriz. "
   ]
  },
  {
   "cell_type": "markdown",
   "metadata": {},
   "source": [
    "#### 0-11 aralığında ki sayıların önce karesini alalım sonra bu sayıları 10'a bölelim."
   ]
  },
  {
   "cell_type": "code",
   "execution_count": null,
   "metadata": {},
   "outputs": [],
   "source": [
    "ornek = [x**2 for x in range(0,11)]"
   ]
  },
  {
   "cell_type": "code",
   "execution_count": null,
   "metadata": {},
   "outputs": [],
   "source": [
    "ornek = [x/10 for x in [x**2 for x in range(0,11)]]\n",
    "ornek"
   ]
  },
  {
   "cell_type": "code",
   "execution_count": 16,
   "metadata": {},
   "outputs": [
    {
     "data": {
      "text/plain": [
       "[0, 1, 4, 9, 16, 25, 36, 49, 64, 81, 100]"
      ]
     },
     "execution_count": 16,
     "metadata": {},
     "output_type": "execute_result"
    }
   ],
   "source": [
    "dene = [i**2 for i in range (11)]\n",
    "dene"
   ]
  },
  {
   "cell_type": "code",
   "execution_count": 18,
   "metadata": {},
   "outputs": [
    {
     "data": {
      "text/plain": [
       "[0.0, 0.5, 2.0, 4.5, 8.0, 12.5, 18.0, 24.5, 32.0, 40.5, 50.0]"
      ]
     },
     "execution_count": 18,
     "metadata": {},
     "output_type": "execute_result"
    }
   ],
   "source": [
    "dene =[y**1/2 for y in [i**2 for i in range (11)]]\n",
    "dene"
   ]
  },
  {
   "cell_type": "markdown",
   "metadata": {},
   "source": [
    "Maaş zammı olan örneği comprehension ile yapalım "
   ]
  },
  {
   "cell_type": "code",
   "execution_count": null,
   "metadata": {},
   "outputs": [],
   "source": [
    "mevcut_maas = [10000,8000,4000,5000,6000]"
   ]
  },
  {
   "cell_type": "code",
   "execution_count": null,
   "metadata": {},
   "outputs": [],
   "source": [
    "# Önce ki halini görelim\n",
    "yeni_maas=[]\n",
    "\n",
    "for m in mevcut_maas:\n",
    "    if m < 6000:\n",
    "        zam = m + m*20/100\n",
    "        yeni_maas.append(zam)\n",
    "    else:\n",
    "        zam = m + m*30/100\n",
    "        yeni_maas.append(zam)\n",
    "print(yeni_maas)"
   ]
  },
  {
   "cell_type": "code",
   "execution_count": 24,
   "metadata": {},
   "outputs": [],
   "source": [
    "mevcut_maas = [10000,8000,4000,5000,6000]"
   ]
  },
  {
   "cell_type": "code",
   "execution_count": null,
   "metadata": {},
   "outputs": [],
   "source": [
    "mevcut_maas = [10000,8000,4000,5000,6000]\n",
    "\n",
    "[(m + m*20/100) if m < 6000 else (m + m*30/100) for m in mevcut_maas]"
   ]
  },
  {
   "cell_type": "code",
   "execution_count": 22,
   "metadata": {},
   "outputs": [
    {
     "data": {
      "text/plain": [
       "[4800.0, 6000.0]"
      ]
     },
     "execution_count": 22,
     "metadata": {},
     "output_type": "execute_result"
    }
   ],
   "source": [
    "[  (m + m*20/100) for m in mevcut_maas if m < 6000 ]"
   ]
  },
  {
   "cell_type": "code",
   "execution_count": 28,
   "metadata": {},
   "outputs": [
    {
     "data": {
      "text/plain": [
       "[16004000, 25005000]"
      ]
     },
     "execution_count": 28,
     "metadata": {},
     "output_type": "execute_result"
    }
   ],
   "source": [
    "[(m+m**2) for m in mevcut_maas if m < 6000]"
   ]
  },
  {
   "cell_type": "code",
   "execution_count": 29,
   "metadata": {},
   "outputs": [
    {
     "data": {
      "text/plain": [
       "[15000.0, 12000.0, 4800.0, 6000.0, 9000.0]"
      ]
     },
     "execution_count": 29,
     "metadata": {},
     "output_type": "execute_result"
    }
   ],
   "source": [
    "[(m + m*20/100) if m < 6000 else (m + m*50/100) for m in mevcut_maas]"
   ]
  },
  {
   "cell_type": "code",
   "execution_count": null,
   "metadata": {},
   "outputs": [],
   "source": [
    "[m*2 for m in mevcut_maas]"
   ]
  },
  {
   "cell_type": "code",
   "execution_count": null,
   "metadata": {},
   "outputs": [],
   "source": [
    "# Eğer tek bir koşul varsa if bloğu for döngüsünün sağındadır \n",
    "# mesela 6000' den küçük olanları 2 ile çarpmak olsun şartımız. \n",
    "\n",
    "[m*2 for m in mevcut_maas if m < 6000 ]"
   ]
  },
  {
   "cell_type": "code",
   "execution_count": null,
   "metadata": {},
   "outputs": [],
   "source": [
    "# şimdi koşul şu olsun 6000 den küçük olanları 2 ile çarp \n",
    "# diğerlerini sıfır ile çarp\n",
    "[ m*2 if m < 6000 else m*0 for m in mevcut_maas]"
   ]
  }
 ],
 "metadata": {
  "kernelspec": {
   "display_name": "Python 3 (ipykernel)",
   "language": "python",
   "name": "python3"
  },
  "language_info": {
   "codemirror_mode": {
    "name": "ipython",
    "version": 3
   },
   "file_extension": ".py",
   "mimetype": "text/x-python",
   "name": "python",
   "nbconvert_exporter": "python",
   "pygments_lexer": "ipython3",
   "version": "3.9.7"
  }
 },
 "nbformat": 4,
 "nbformat_minor": 1
}
